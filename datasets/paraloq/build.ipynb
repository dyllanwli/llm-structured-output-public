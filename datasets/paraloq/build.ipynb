{
 "cells": [
  {
   "cell_type": "code",
   "execution_count": 12,
   "metadata": {},
   "outputs": [],
   "source": [
    "import datasets\n",
    "dataset_name = \"paraloq/json_data_extraction\"\n",
    "\n",
    "ds = datasets.load_dataset(dataset_name)['train']"
   ]
  },
  {
   "cell_type": "code",
   "execution_count": 13,
   "metadata": {},
   "outputs": [
    {
     "data": {
      "text/plain": [
       "Dataset({\n",
       "    features: ['title', 'topic', 'item_id', 'schema', 'item', 'text', 'medium', '__index_level_0__'],\n",
       "    num_rows: 484\n",
       "})"
      ]
     },
     "execution_count": 13,
     "metadata": {},
     "output_type": "execute_result"
    }
   ],
   "source": [
    "ds"
   ]
  },
  {
   "cell_type": "code",
   "execution_count": 15,
   "metadata": {},
   "outputs": [
    {
     "name": "stderr",
     "output_type": "stream",
     "text": [
      "Saving the dataset (1/1 shards): 100%|██████████| 484/484 [00:00<00:00, 98771.13 examples/s] \n",
      "Saving the dataset (0/1 shards):   0%|          | 0/435 [00:00<?, ? examples/s]"
     ]
    },
    {
     "name": "stderr",
     "output_type": "stream",
     "text": [
      "Saving the dataset (1/1 shards): 100%|██████████| 435/435 [00:00<00:00, 56194.48 examples/s]\n",
      "Saving the dataset (1/1 shards): 100%|██████████| 49/49 [00:00<00:00, 10434.65 examples/s]\n"
     ]
    }
   ],
   "source": [
    "from datasets import Dataset\n",
    "\n",
    "\n",
    "def build_training_data(ds):\n",
    "    \n",
    "    texts = []\n",
    "    for d in ds:\n",
    "        # You are a helpful assistant that answers in JSON. Here's the json schema you must adhere to:\\n<schema>\\n\n",
    "        # schema...\n",
    "        # Please provide a JSON object that includes these details from below content: \n",
    "        schema = d['schema']\n",
    "        text = \"Please provide a JSON object that includes these details from below content: \" + d['text']\n",
    "        response = d['item']\n",
    "        prompt = f\"<s>[INST] You are a helpful assistant that answers in JSON. Here's the json schema you must adhere to:\\n{schema}\\n{text}[/INST] {response}\"\n",
    "        texts.append(prompt)\n",
    "    return {\"text\": texts}\n",
    "data = build_training_data(ds)\n",
    "\n",
    "dataset = Dataset.from_dict(data)\n",
    "\n",
    "dataset.save_to_disk('./paraloq_data/')\n",
    "train_dataset, test_dataset = dataset.train_test_split(test_size=0.1).values()\n",
    "train_dataset.save_to_disk('./paraloq_data_train/')\n",
    "test_dataset.save_to_disk('./paraloq_data_test/')"
   ]
  },
  {
   "cell_type": "code",
   "execution_count": 16,
   "metadata": {},
   "outputs": [
    {
     "name": "stdout",
     "output_type": "stream",
     "text": [
      "Dataset({\n",
      "    features: ['text'],\n",
      "    num_rows: 435\n",
      "})\n",
      "Dataset({\n",
      "    features: ['text'],\n",
      "    num_rows: 49\n",
      "})\n"
     ]
    }
   ],
   "source": [
    "trai_dataset = Dataset.load_from_disk('./paraloq_data_train/')\n",
    "print(train_dataset)\n",
    "test_dataset = Dataset.load_from_disk('./paraloq_data_test/')\n",
    "print(test_dataset)"
   ]
  },
  {
   "cell_type": "code",
   "execution_count": null,
   "metadata": {},
   "outputs": [],
   "source": []
  }
 ],
 "metadata": {
  "kernelspec": {
   "display_name": "base",
   "language": "python",
   "name": "python3"
  },
  "language_info": {
   "codemirror_mode": {
    "name": "ipython",
    "version": 3
   },
   "file_extension": ".py",
   "mimetype": "text/x-python",
   "name": "python",
   "nbconvert_exporter": "python",
   "pygments_lexer": "ipython3",
   "version": "3.11.5"
  }
 },
 "nbformat": 4,
 "nbformat_minor": 2
}

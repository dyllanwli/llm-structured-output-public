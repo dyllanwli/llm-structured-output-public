{
 "cells": [
  {
   "cell_type": "code",
   "execution_count": null,
   "metadata": {},
   "outputs": [],
   "source": [
    "#!/usr/bin/env python3\n",
    "# -*- coding: UTF-8 -*-\n",
    "\n",
    "import sys\n",
    "import os\n",
    "for path in [os.getcwd(),\"SchemaExamples\"]:\n",
    "  sys.path.insert( 1, path ) #Pickup libs from shipped lib directory\n",
    "\n",
    "import logging\n",
    "logging.basicConfig(level=logging.INFO) # dev_appserver.py --log_level debug .\n",
    "log = logging.getLogger(__name__)\n",
    "\n",
    "from schemaexamples import Example, SchemaExamples\n",
    "\n",
    "\"\"\"\n",
    "Load examples from file\n",
    "\"\"\"\n",
    "import glob\n",
    "globpatterns = [\"/path/to/example\"]\n",
    "\n",
    "files = []\n",
    "for g in globpatterns:\n",
    "    files.extend(glob.glob(g))\n",
    "    \n",
    "print(\"Loading %d files\" % len(files))\n",
    "SchemaExamples.loadExamplesFiles(files)"
   ]
  },
  {
   "cell_type": "code",
   "execution_count": null,
   "metadata": {},
   "outputs": [],
   "source": [
    "examples = []\n",
    "for i in SchemaExamples.allExamples():\n",
    "    examples.append(i)"
   ]
  },
  {
   "cell_type": "code",
   "execution_count": null,
   "metadata": {},
   "outputs": [],
   "source": [
    "import pandas as pd\n",
    "jsonld = []\n",
    "microdata = []\n",
    "rdfa = []\n",
    "original_html = []\n",
    "count_jsonld = 0\n",
    "count_microdata = 0\n",
    "count_rdfa = 0\n",
    "\n",
    "for e in examples:\n",
    "    if e.hasJsonld():\n",
    "        jsonld.append(e.getJsonld())\n",
    "        count_jsonld += 1\n",
    "    else:\n",
    "        jsonld.append(None)\n",
    "    if e.hasMicrodata():\n",
    "        microdata.append(e.getMicrodata())\n",
    "        count_microdata += 1\n",
    "    else:\n",
    "        microdata.append(None)\n",
    "    if e.hasRdfa():\n",
    "        rdfa.append(e.getRdfa())\n",
    "        count_rdfa += 1\n",
    "    else:\n",
    "        rdfa.append(None)\n",
    "    original_html.append(e.original_html)"
   ]
  },
  {
   "cell_type": "code",
   "execution_count": null,
   "metadata": {},
   "outputs": [],
   "source": [
    "print(\"jsonld: %d, microdata: %d, rdfa: %d\" % (count_jsonld, count_microdata, count_rdfa))\n",
    "# Create a DataFrame from the original_html and jsonld lists\n",
    "df = pd.DataFrame({\n",
    "    'original_html': original_html,\n",
    "    'jsonld': jsonld\n",
    "})\n",
    "df.to_csv('schema.csv', index=False)"
   ]
  },
  {
   "cell_type": "code",
   "execution_count": null,
   "metadata": {},
   "outputs": [],
   "source": [
    "from bs4 import BeautifulSoup\n",
    "import requests\n",
    "\n",
    "response = requests.get('https://schema.org/docs/full.html')\n",
    "\n",
    "# Parse the HTML content\n",
    "soup = BeautifulSoup(response.text, 'html.parser')\n",
    "\n",
    "# Find all anchor tags within the tree component\n",
    "tree_links = soup.select('.dttTree a')\n",
    "\n",
    "# Extract the href values\n",
    "href_values = [link['href'] for link in tree_links]\n",
    "\n",
    "hrefs = []\n",
    "# Print the href values\n",
    "for href in href_values:\n",
    "    hrefs.append(href)"
   ]
  },
  {
   "cell_type": "code",
   "execution_count": null,
   "metadata": {},
   "outputs": [],
   "source": [
    "len(hrefs)"
   ]
  },
  {
   "cell_type": "code",
   "execution_count": null,
   "metadata": {},
   "outputs": [],
   "source": [
    "import pandas as pd\n",
    "\n",
    "df = pd.read_csv('schema.csv')\n",
    "df.head()"
   ]
  },
  {
   "cell_type": "code",
   "execution_count": null,
   "metadata": {},
   "outputs": [],
   "source": [
    "import pandas as pd\n",
    "from datasets import Dataset\n",
    "\n",
    "\n",
    "def build_training_data(df):\n",
    "    \n",
    "    texts = []\n",
    "    for d in df.iterrows():\n",
    "        inst = d[1]['original_html']\n",
    "        response = d[1]['jsonld']\n",
    "        prompt = f\"<s>[INST] Convert the raw data to ld+json format.\\n{inst} [/INST] {response}\"\n",
    "        texts.append(prompt)\n",
    "    \n",
    "    return {\"text\": texts}\n",
    "\n",
    "data = build_training_data(df)\n",
    "dataset = Dataset.from_dict(data)\n",
    "\n",
    "dataset.save_to_disk('./schema_data/')\n",
    "train_dataset, test_dataset = dataset.train_test_split(test_size=0.1).values()\n",
    "train_dataset.save_to_disk('./schema_data_train/')\n",
    "test_dataset.save_to_disk('./schema_data_test/')"
   ]
  },
  {
   "cell_type": "code",
   "execution_count": null,
   "metadata": {},
   "outputs": [],
   "source": [
    "from datasets import Dataset\n",
    "train_dataset = Dataset.load_from_disk('./schema_data_train/')\n",
    "print(train_dataset)\n",
    "test_dataset = Dataset.load_from_disk('./schema_data_test/')\n",
    "print(test_dataset)"
   ]
  }
 ],
 "metadata": {
  "kernelspec": {
   "display_name": "base",
   "language": "python",
   "name": "python3"
  },
  "language_info": {
   "codemirror_mode": {
    "name": "ipython",
    "version": 3
   },
   "file_extension": ".py",
   "mimetype": "text/x-python",
   "name": "python",
   "nbconvert_exporter": "python",
   "pygments_lexer": "ipython3",
   "version": "3.11.5"
  }
 },
 "nbformat": 4,
 "nbformat_minor": 2
}
